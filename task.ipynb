{
 "cells": [
  {
   "cell_type": "code",
   "execution_count": 1,
   "id": "5499aea8",
   "metadata": {},
   "outputs": [],
   "source": [
    "#task 1\n",
    "#Remove duplicates\n",
    "a=[2,3,4,2,3,4,8,9,12,\"apple\",'Apple']"
   ]
  },
  {
   "cell_type": "code",
   "execution_count": 2,
   "id": "5bbe478f",
   "metadata": {},
   "outputs": [],
   "source": [
    "b=set(a)"
   ]
  },
  {
   "cell_type": "code",
   "execution_count": 3,
   "id": "f6967302",
   "metadata": {},
   "outputs": [
    {
     "data": {
      "text/plain": [
       "{12, 2, 3, 4, 8, 9, 'Apple', 'apple'}"
      ]
     },
     "execution_count": 3,
     "metadata": {},
     "output_type": "execute_result"
    }
   ],
   "source": [
    "b"
   ]
  },
  {
   "cell_type": "code",
   "execution_count": 4,
   "id": "08c1406e",
   "metadata": {},
   "outputs": [],
   "source": [
    "\n",
    "#task 2\n",
    "#slice 'apple' from the give variable\n",
    "B='i need an apple'\n"
   ]
  },
  {
   "cell_type": "code",
   "execution_count": 5,
   "id": "1ef3df27",
   "metadata": {},
   "outputs": [
    {
     "data": {
      "text/plain": [
       "'apple'"
      ]
     },
     "execution_count": 5,
     "metadata": {},
     "output_type": "execute_result"
    }
   ],
   "source": [
    "B[10:15]"
   ]
  },
  {
   "cell_type": "code",
   "execution_count": 6,
   "id": "b37b5e03",
   "metadata": {},
   "outputs": [
    {
     "name": "stdout",
     "output_type": "stream",
     "text": [
      "110\n"
     ]
    }
   ],
   "source": [
    "\n",
    "\n",
    "#Task 3\n",
    "#create a function for add both number when both number are even and multiple both number are not even\n",
    "a=11\n",
    "b=10\n",
    "if a ==10 and b==10:\n",
    "    c=a+b\n",
    "    print(c)\n",
    "else:\n",
    "    c=a*b\n",
    "    print(c)"
   ]
  },
  {
   "cell_type": "code",
   "execution_count": 7,
   "id": "41a97c39",
   "metadata": {},
   "outputs": [],
   "source": [
    "#task 5\n",
    "#multiplication table (8th table) using for loop\n",
    "table=8"
   ]
  },
  {
   "cell_type": "code",
   "execution_count": 8,
   "id": "62e0219f",
   "metadata": {},
   "outputs": [
    {
     "name": "stdout",
     "output_type": "stream",
     "text": [
      "1 x 8 = 8\n",
      "2 x 8 = 16\n",
      "3 x 8 = 24\n",
      "4 x 8 = 32\n",
      "5 x 8 = 40\n",
      "6 x 8 = 48\n",
      "7 x 8 = 56\n",
      "8 x 8 = 64\n",
      "9 x 8 = 72\n",
      "10 x 8 = 80\n"
     ]
    }
   ],
   "source": [
    "for i in range(1,11):\n",
    "    print(i,'x',table,'=',i*table)"
   ]
  },
  {
   "cell_type": "code",
   "execution_count": null,
   "id": "d2618014",
   "metadata": {},
   "outputs": [],
   "source": []
  },
  {
   "cell_type": "code",
   "execution_count": null,
   "id": "2cf33926",
   "metadata": {},
   "outputs": [],
   "source": []
  },
  {
   "cell_type": "code",
   "execution_count": null,
   "id": "dfa1cf81",
   "metadata": {},
   "outputs": [],
   "source": []
  },
  {
   "cell_type": "code",
   "execution_count": null,
   "id": "26c10610",
   "metadata": {},
   "outputs": [],
   "source": []
  }
 ],
 "metadata": {
  "kernelspec": {
   "display_name": "Python 3 (ipykernel)",
   "language": "python",
   "name": "python3"
  },
  "language_info": {
   "codemirror_mode": {
    "name": "ipython",
    "version": 3
   },
   "file_extension": ".py",
   "mimetype": "text/x-python",
   "name": "python",
   "nbconvert_exporter": "python",
   "pygments_lexer": "ipython3",
   "version": "3.11.1"
  }
 },
 "nbformat": 4,
 "nbformat_minor": 5
}
