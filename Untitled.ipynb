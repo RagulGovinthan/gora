{
 "cells": [
  {
   "cell_type": "markdown",
   "id": "18aca474",
   "metadata": {},
   "source": [
    "# python basics\n",
    "\n",
    "### variable-store date values\n",
    "\n",
    "   - not start a number,symbol\n",
    "   - no gab\n",
    "   - should in left side and use '='\n",
    "   - caps variable are diffrent\n",
    "   - variables are updatable\n",
    "    \n",
    "    \n",
    "    \n"
   ]
  },
  {
   "cell_type": "code",
   "execution_count": 1,
   "id": "56933384",
   "metadata": {},
   "outputs": [],
   "source": [
    "a=1                        #a=variable   ,   1=data"
   ]
  },
  {
   "cell_type": "code",
   "execution_count": 2,
   "id": "acb1acf0",
   "metadata": {},
   "outputs": [
    {
     "data": {
      "text/plain": [
       "1"
      ]
     },
     "execution_count": 2,
     "metadata": {},
     "output_type": "execute_result"
    }
   ],
   "source": [
    "a\n"
   ]
  },
  {
   "cell_type": "code",
   "execution_count": 3,
   "id": "585d6d2c",
   "metadata": {},
   "outputs": [
    {
     "name": "stdout",
     "output_type": "stream",
     "text": [
      "2 4 6\n"
     ]
    }
   ],
   "source": [
    "a,b,c=2,4,6\n",
    "print(a,b,c)                             #a,b,c=variable   , 2,4,6=data"
   ]
  },
  {
   "cell_type": "markdown",
   "id": "ccd8611f",
   "metadata": {},
   "source": [
    "\n",
    "\n",
    "# data types\n",
    "\n",
    "\n",
    " - int(3,4,0),  float(3.2,4.0,2.3),  complex_number(4+3j)\n",
    " - str\n",
    " - bool\n",
    " - list,tuple,set,dic\n",
    "\n",
    " to fine type of data use \n",
    " - type(a)\n"
   ]
  },
  {
   "cell_type": "markdown",
   "id": "d2598b9e",
   "metadata": {},
   "source": []
  },
  {
   "cell_type": "code",
   "execution_count": 4,
   "id": "889d6da5",
   "metadata": {},
   "outputs": [
    {
     "data": {
      "text/plain": [
       "int"
      ]
     },
     "execution_count": 4,
     "metadata": {},
     "output_type": "execute_result"
    }
   ],
   "source": [
    "a=1\n",
    "type(a)\n"
   ]
  },
  {
   "cell_type": "code",
   "execution_count": 5,
   "id": "b8853e1d",
   "metadata": {},
   "outputs": [
    {
     "data": {
      "text/plain": [
       "float"
      ]
     },
     "execution_count": 5,
     "metadata": {},
     "output_type": "execute_result"
    }
   ],
   "source": [
    "b=4.5\n",
    "type(b)"
   ]
  },
  {
   "cell_type": "code",
   "execution_count": 6,
   "id": "465dea16",
   "metadata": {},
   "outputs": [],
   "source": [
    "d=(1+3j)"
   ]
  },
  {
   "cell_type": "code",
   "execution_count": 7,
   "id": "2730f367",
   "metadata": {},
   "outputs": [
    {
     "data": {
      "text/plain": [
       "complex"
      ]
     },
     "execution_count": 7,
     "metadata": {},
     "output_type": "execute_result"
    }
   ],
   "source": [
    "type(d)"
   ]
  },
  {
   "cell_type": "markdown",
   "id": "f1986265",
   "metadata": {},
   "source": [
    "# string(str) -text type\n",
    "  -use single,double,triple \" \""
   ]
  },
  {
   "cell_type": "markdown",
   "id": "43b202dd",
   "metadata": {},
   "source": []
  },
  {
   "cell_type": "code",
   "execution_count": 8,
   "id": "35851f33",
   "metadata": {},
   "outputs": [],
   "source": [
    "c='i am rahul'\n"
   ]
  },
  {
   "cell_type": "code",
   "execution_count": 9,
   "id": "85b542dd",
   "metadata": {},
   "outputs": [
    {
     "data": {
      "text/plain": [
       "'i am rahul'"
      ]
     },
     "execution_count": 9,
     "metadata": {},
     "output_type": "execute_result"
    }
   ],
   "source": [
    "c"
   ]
  },
  {
   "cell_type": "code",
   "execution_count": 10,
   "id": "9403467b",
   "metadata": {},
   "outputs": [
    {
     "data": {
      "text/plain": [
       "str"
      ]
     },
     "execution_count": 10,
     "metadata": {},
     "output_type": "execute_result"
    }
   ],
   "source": [
    "type(c)"
   ]
  },
  {
   "cell_type": "code",
   "execution_count": 11,
   "id": "3456c163",
   "metadata": {},
   "outputs": [],
   "source": [
    "E=\"dad's money\""
   ]
  },
  {
   "cell_type": "code",
   "execution_count": 12,
   "id": "6afc15a4",
   "metadata": {},
   "outputs": [
    {
     "data": {
      "text/plain": [
       "\"dad's money\""
      ]
     },
     "execution_count": 12,
     "metadata": {},
     "output_type": "execute_result"
    }
   ],
   "source": [
    "E"
   ]
  },
  {
   "cell_type": "markdown",
   "id": "29d36e50",
   "metadata": {},
   "source": [
    "# index\n",
    "\n",
    "   - start with 0\n",
    "   - use[]\n",
    "   - including white space while indexing"
   ]
  },
  {
   "cell_type": "code",
   "execution_count": 13,
   "id": "2db56297",
   "metadata": {},
   "outputs": [],
   "source": [
    "f='i am happy'"
   ]
  },
  {
   "cell_type": "code",
   "execution_count": 14,
   "id": "1d5b5a78",
   "metadata": {},
   "outputs": [
    {
     "data": {
      "text/plain": [
       "'i'"
      ]
     },
     "execution_count": 14,
     "metadata": {},
     "output_type": "execute_result"
    }
   ],
   "source": [
    "f[0]"
   ]
  },
  {
   "cell_type": "code",
   "execution_count": 15,
   "id": "c4b2338b",
   "metadata": {},
   "outputs": [
    {
     "data": {
      "text/plain": [
       "' '"
      ]
     },
     "execution_count": 15,
     "metadata": {},
     "output_type": "execute_result"
    }
   ],
   "source": [
    "f[1]"
   ]
  },
  {
   "cell_type": "markdown",
   "id": "5fea7378",
   "metadata": {},
   "source": [
    "# string slicing"
   ]
  },
  {
   "cell_type": "code",
   "execution_count": 16,
   "id": "5103a0e9",
   "metadata": {},
   "outputs": [],
   "source": [
    "f1='style look'"
   ]
  },
  {
   "cell_type": "code",
   "execution_count": 17,
   "id": "7cc89355",
   "metadata": {},
   "outputs": [
    {
     "data": {
      "text/plain": [
       "'look'"
      ]
     },
     "execution_count": 17,
     "metadata": {},
     "output_type": "execute_result"
    }
   ],
   "source": [
    "f1[6:11]"
   ]
  },
  {
   "cell_type": "code",
   "execution_count": 18,
   "id": "fd3aaaec",
   "metadata": {},
   "outputs": [
    {
     "data": {
      "text/plain": [
       "'style'"
      ]
     },
     "execution_count": 18,
     "metadata": {},
     "output_type": "execute_result"
    }
   ],
   "source": [
    "f1[-10:-5]"
   ]
  },
  {
   "cell_type": "code",
   "execution_count": null,
   "id": "dc8921b5",
   "metadata": {},
   "outputs": [],
   "source": []
  },
  {
   "cell_type": "markdown",
   "id": "d60091cd",
   "metadata": {},
   "source": [
    "# String concatination"
   ]
  },
  {
   "cell_type": "code",
   "execution_count": 19,
   "id": "03aceb50",
   "metadata": {},
   "outputs": [],
   "source": [
    "a='i am '\n",
    "b='rahul'"
   ]
  },
  {
   "cell_type": "code",
   "execution_count": 20,
   "id": "a9ad05f4",
   "metadata": {},
   "outputs": [],
   "source": [
    "c=a+b"
   ]
  },
  {
   "cell_type": "code",
   "execution_count": 21,
   "id": "3c5223aa",
   "metadata": {},
   "outputs": [
    {
     "data": {
      "text/plain": [
       "'i am rahul'"
      ]
     },
     "execution_count": 21,
     "metadata": {},
     "output_type": "execute_result"
    }
   ],
   "source": [
    "c"
   ]
  },
  {
   "cell_type": "code",
   "execution_count": 22,
   "id": "2fce8c7f",
   "metadata": {},
   "outputs": [
    {
     "data": {
      "text/plain": [
       "'i am rahuli am rahuli am rahul'"
      ]
     },
     "execution_count": 22,
     "metadata": {},
     "output_type": "execute_result"
    }
   ],
   "source": [
    "3*c"
   ]
  },
  {
   "cell_type": "code",
   "execution_count": 23,
   "id": "889711f4",
   "metadata": {},
   "outputs": [
    {
     "data": {
      "text/plain": [
       "False"
      ]
     },
     "execution_count": 23,
     "metadata": {},
     "output_type": "execute_result"
    }
   ],
   "source": [
    "a.isalpha()"
   ]
  },
  {
   "cell_type": "code",
   "execution_count": 24,
   "id": "cf3d4755",
   "metadata": {},
   "outputs": [],
   "source": [
    "a='1'"
   ]
  },
  {
   "cell_type": "code",
   "execution_count": 25,
   "id": "a8fddf03",
   "metadata": {},
   "outputs": [
    {
     "data": {
      "text/plain": [
       "True"
      ]
     },
     "execution_count": 25,
     "metadata": {},
     "output_type": "execute_result"
    }
   ],
   "source": [
    "a.isnumeric()"
   ]
  },
  {
   "cell_type": "code",
   "execution_count": 26,
   "id": "ec3593af",
   "metadata": {},
   "outputs": [
    {
     "name": "stdout",
     "output_type": "stream",
     "text": [
      "hggfhfhfhfhghh\n",
      "i am hggfhfhfhfhghh\n"
     ]
    }
   ],
   "source": [
    "b=input()\n",
    "a='i am '+b\n",
    "print(a)"
   ]
  },
  {
   "cell_type": "code",
   "execution_count": 27,
   "id": "dbc960a1",
   "metadata": {},
   "outputs": [
    {
     "name": "stdout",
     "output_type": "stream",
     "text": [
      "player name is kholi batting at 3\n"
     ]
    }
   ],
   "source": [
    "a='kholi'\n",
    "b='3'\n",
    "print(f'player name is {a} batting at {b}')"
   ]
  },
  {
   "cell_type": "code",
   "execution_count": 28,
   "id": "5bc658e1",
   "metadata": {},
   "outputs": [
    {
     "data": {
      "text/plain": [
       "'moli'"
      ]
     },
     "execution_count": 28,
     "metadata": {},
     "output_type": "execute_result"
    }
   ],
   "source": [
    "a.replace('kho','mo')"
   ]
  },
  {
   "cell_type": "code",
   "execution_count": 29,
   "id": "4acb0168",
   "metadata": {},
   "outputs": [
    {
     "data": {
      "text/plain": [
       "'KHOLI'"
      ]
     },
     "execution_count": 29,
     "metadata": {},
     "output_type": "execute_result"
    }
   ],
   "source": [
    "a.upper()"
   ]
  },
  {
   "cell_type": "code",
   "execution_count": 30,
   "id": "4d7ac667",
   "metadata": {},
   "outputs": [
    {
     "data": {
      "text/plain": [
       "'kholi'"
      ]
     },
     "execution_count": 30,
     "metadata": {},
     "output_type": "execute_result"
    }
   ],
   "source": [
    "a.lower()"
   ]
  },
  {
   "cell_type": "code",
   "execution_count": 31,
   "id": "7530b944",
   "metadata": {},
   "outputs": [],
   "source": [
    "b=a.upper()"
   ]
  },
  {
   "cell_type": "code",
   "execution_count": 32,
   "id": "6eaa5b35",
   "metadata": {},
   "outputs": [
    {
     "data": {
      "text/plain": [
       "'KHOLI'"
      ]
     },
     "execution_count": 32,
     "metadata": {},
     "output_type": "execute_result"
    }
   ],
   "source": [
    "b"
   ]
  },
  {
   "cell_type": "code",
   "execution_count": 33,
   "id": "8c281f87",
   "metadata": {},
   "outputs": [
    {
     "data": {
      "text/plain": [
       "True"
      ]
     },
     "execution_count": 33,
     "metadata": {},
     "output_type": "execute_result"
    }
   ],
   "source": [
    "b.isupper()"
   ]
  },
  {
   "cell_type": "code",
   "execution_count": 34,
   "id": "82c5f0c7",
   "metadata": {},
   "outputs": [
    {
     "data": {
      "text/plain": [
       "'i am good boy'"
      ]
     },
     "execution_count": 34,
     "metadata": {},
     "output_type": "execute_result"
    }
   ],
   "source": [
    "a=('   i am good boy')\n",
    "a.strip()"
   ]
  },
  {
   "cell_type": "code",
   "execution_count": 35,
   "id": "a572ed75",
   "metadata": {},
   "outputs": [
    {
     "data": {
      "text/plain": [
       "'   I Am Good Boy'"
      ]
     },
     "execution_count": 35,
     "metadata": {},
     "output_type": "execute_result"
    }
   ],
   "source": [
    "a.title()"
   ]
  },
  {
   "cell_type": "code",
   "execution_count": 36,
   "id": "acebd2a4",
   "metadata": {},
   "outputs": [
    {
     "data": {
      "text/plain": [
       "'   i am good boy'"
      ]
     },
     "execution_count": 36,
     "metadata": {},
     "output_type": "execute_result"
    }
   ],
   "source": [
    "a.capitalize()"
   ]
  },
  {
   "cell_type": "code",
   "execution_count": 37,
   "id": "2b78a6ec",
   "metadata": {},
   "outputs": [
    {
     "data": {
      "text/plain": [
       "6"
      ]
     },
     "execution_count": 37,
     "metadata": {},
     "output_type": "execute_result"
    }
   ],
   "source": [
    "a.find('m')"
   ]
  },
  {
   "cell_type": "code",
   "execution_count": 38,
   "id": "ddb5cd19",
   "metadata": {},
   "outputs": [
    {
     "data": {
      "text/plain": [
       "1"
      ]
     },
     "execution_count": 38,
     "metadata": {},
     "output_type": "execute_result"
    }
   ],
   "source": [
    "a.count('g')"
   ]
  },
  {
   "cell_type": "code",
   "execution_count": 39,
   "id": "baf01241",
   "metadata": {},
   "outputs": [
    {
     "data": {
      "text/plain": [
       "3"
      ]
     },
     "execution_count": 39,
     "metadata": {},
     "output_type": "execute_result"
    }
   ],
   "source": [
    "a.count('o')"
   ]
  },
  {
   "cell_type": "code",
   "execution_count": 40,
   "id": "090d173e",
   "metadata": {},
   "outputs": [
    {
     "name": "stdout",
     "output_type": "stream",
     "text": [
      "i am\n",
      " bad\n"
     ]
    }
   ],
   "source": [
    "print('i am\\n bad')"
   ]
  },
  {
   "cell_type": "markdown",
   "id": "8d94196a",
   "metadata": {},
   "source": [
    "# type casting\n",
    "  - type conversion"
   ]
  },
  {
   "cell_type": "code",
   "execution_count": 41,
   "id": "032b1060",
   "metadata": {},
   "outputs": [],
   "source": [
    "a=30.2\n",
    "a=int(30.2)"
   ]
  },
  {
   "cell_type": "code",
   "execution_count": 42,
   "id": "0c68d9f2",
   "metadata": {},
   "outputs": [
    {
     "data": {
      "text/plain": [
       "30"
      ]
     },
     "execution_count": 42,
     "metadata": {},
     "output_type": "execute_result"
    }
   ],
   "source": [
    "a"
   ]
  },
  {
   "cell_type": "code",
   "execution_count": 43,
   "id": "29eccb67",
   "metadata": {},
   "outputs": [
    {
     "data": {
      "text/plain": [
       "float"
      ]
     },
     "execution_count": 43,
     "metadata": {},
     "output_type": "execute_result"
    }
   ],
   "source": [
    "b=float(5)\n",
    "type(b)"
   ]
  },
  {
   "cell_type": "code",
   "execution_count": 44,
   "id": "b20f64fd",
   "metadata": {},
   "outputs": [
    {
     "data": {
      "text/plain": [
       "str"
      ]
     },
     "execution_count": 44,
     "metadata": {},
     "output_type": "execute_result"
    }
   ],
   "source": [
    "a=('1')\n",
    "type(a)"
   ]
  },
  {
   "cell_type": "code",
   "execution_count": 45,
   "id": "2fe87000",
   "metadata": {},
   "outputs": [
    {
     "data": {
      "text/plain": [
       "'1'"
      ]
     },
     "execution_count": 45,
     "metadata": {},
     "output_type": "execute_result"
    }
   ],
   "source": [
    "a"
   ]
  },
  {
   "cell_type": "code",
   "execution_count": 46,
   "id": "af2fc4fa",
   "metadata": {},
   "outputs": [
    {
     "data": {
      "text/plain": [
       "1"
      ]
     },
     "execution_count": 46,
     "metadata": {},
     "output_type": "execute_result"
    }
   ],
   "source": [
    "c=int(a)\n",
    "c"
   ]
  },
  {
   "cell_type": "markdown",
   "id": "58349e55",
   "metadata": {},
   "source": [
    "# bool"
   ]
  },
  {
   "cell_type": "code",
   "execution_count": 47,
   "id": "5376fc13",
   "metadata": {},
   "outputs": [
    {
     "data": {
      "text/plain": [
       "True"
      ]
     },
     "execution_count": 47,
     "metadata": {},
     "output_type": "execute_result"
    }
   ],
   "source": [
    "a='i am rahul'\n",
    "'r' in a"
   ]
  },
  {
   "cell_type": "code",
   "execution_count": 48,
   "id": "3881ba8f",
   "metadata": {},
   "outputs": [
    {
     "data": {
      "text/plain": [
       "False"
      ]
     },
     "execution_count": 48,
     "metadata": {},
     "output_type": "execute_result"
    }
   ],
   "source": [
    "'g' in a"
   ]
  },
  {
   "cell_type": "markdown",
   "id": "c9151648",
   "metadata": {},
   "source": [
    "- list[]\n",
    "    -list is a ordered and changable\n",
    "- tuple()\n",
    "    -tuple is a ordered and unchangable\n",
    "- set{}\n",
    "    -set is a unordered ,unchangable,unindexed and no duplicate members.\n",
    "- dic{}\n",
    "    -dictionary is ordered,changable and no duplicate members."
   ]
  },
  {
   "cell_type": "code",
   "execution_count": 49,
   "id": "c6cf29a2",
   "metadata": {},
   "outputs": [
    {
     "data": {
      "text/plain": [
       "dict"
      ]
     },
     "execution_count": 49,
     "metadata": {},
     "output_type": "execute_result"
    }
   ],
   "source": [
    "a=({})\n",
    "type(a)\n"
   ]
  },
  {
   "cell_type": "markdown",
   "id": "4cb7ef7f",
   "metadata": {},
   "source": [
    "# list"
   ]
  },
  {
   "cell_type": "code",
   "execution_count": 50,
   "id": "8dbb573f",
   "metadata": {},
   "outputs": [],
   "source": [
    "a=[1,23,'rahul',7,7,9,7]"
   ]
  },
  {
   "cell_type": "code",
   "execution_count": 51,
   "id": "ea7acbba",
   "metadata": {},
   "outputs": [
    {
     "data": {
      "text/plain": [
       "[1, 23, 'rahul', 7, 7, 9, 7]"
      ]
     },
     "execution_count": 51,
     "metadata": {},
     "output_type": "execute_result"
    }
   ],
   "source": [
    "a"
   ]
  },
  {
   "cell_type": "code",
   "execution_count": 52,
   "id": "58218461",
   "metadata": {},
   "outputs": [
    {
     "data": {
      "text/plain": [
       "list"
      ]
     },
     "execution_count": 52,
     "metadata": {},
     "output_type": "execute_result"
    }
   ],
   "source": [
    "type(a)"
   ]
  },
  {
   "cell_type": "code",
   "execution_count": 53,
   "id": "963da107",
   "metadata": {},
   "outputs": [
    {
     "data": {
      "text/plain": [
       "23"
      ]
     },
     "execution_count": 53,
     "metadata": {},
     "output_type": "execute_result"
    }
   ],
   "source": [
    "a[1]"
   ]
  },
  {
   "cell_type": "code",
   "execution_count": 54,
   "id": "2a533f40",
   "metadata": {},
   "outputs": [
    {
     "data": {
      "text/plain": [
       "[23, 'rahul', 7, 7, 9]"
      ]
     },
     "execution_count": 54,
     "metadata": {},
     "output_type": "execute_result"
    }
   ],
   "source": [
    "a[1:6]"
   ]
  },
  {
   "cell_type": "code",
   "execution_count": 55,
   "id": "8b459334",
   "metadata": {},
   "outputs": [
    {
     "data": {
      "text/plain": [
       "[1, 23, 'rahul', 7, 7, 9, 7]"
      ]
     },
     "execution_count": 55,
     "metadata": {},
     "output_type": "execute_result"
    }
   ],
   "source": [
    "a                             #list are mutable"
   ]
  },
  {
   "cell_type": "code",
   "execution_count": 56,
   "id": "aa6a666a",
   "metadata": {},
   "outputs": [],
   "source": [
    "a[1]='python'"
   ]
  },
  {
   "cell_type": "code",
   "execution_count": 57,
   "id": "955e49a0",
   "metadata": {},
   "outputs": [
    {
     "data": {
      "text/plain": [
       "[1, 'python', 'rahul', 7, 7, 9, 7]"
      ]
     },
     "execution_count": 57,
     "metadata": {},
     "output_type": "execute_result"
    }
   ],
   "source": [
    "a"
   ]
  },
  {
   "cell_type": "code",
   "execution_count": 58,
   "id": "28d7ddb8",
   "metadata": {},
   "outputs": [],
   "source": [
    "a.append(3)                       #append object"
   ]
  },
  {
   "cell_type": "code",
   "execution_count": 59,
   "id": "5fc2a96f",
   "metadata": {},
   "outputs": [
    {
     "data": {
      "text/plain": [
       "[1, 'python', 'rahul', 7, 7, 9, 7, 3]"
      ]
     },
     "execution_count": 59,
     "metadata": {},
     "output_type": "execute_result"
    }
   ],
   "source": [
    "a"
   ]
  },
  {
   "cell_type": "code",
   "execution_count": 60,
   "id": "41275144",
   "metadata": {},
   "outputs": [],
   "source": [
    "a.clear()                    #remove all items"
   ]
  },
  {
   "cell_type": "code",
   "execution_count": 61,
   "id": "6b2f339d",
   "metadata": {},
   "outputs": [
    {
     "data": {
      "text/plain": [
       "[]"
      ]
     },
     "execution_count": 61,
     "metadata": {},
     "output_type": "execute_result"
    }
   ],
   "source": [
    "a"
   ]
  },
  {
   "cell_type": "code",
   "execution_count": 62,
   "id": "3e92d89a",
   "metadata": {},
   "outputs": [],
   "source": [
    "a=[1,2,3,4,5,6,7]"
   ]
  },
  {
   "cell_type": "code",
   "execution_count": 63,
   "id": "ce0d4da5",
   "metadata": {},
   "outputs": [],
   "source": [
    "b=a.copy()"
   ]
  },
  {
   "cell_type": "code",
   "execution_count": 64,
   "id": "548f437f",
   "metadata": {},
   "outputs": [
    {
     "data": {
      "text/plain": [
       "[1, 2, 3, 4, 5, 6, 7]"
      ]
     },
     "execution_count": 64,
     "metadata": {},
     "output_type": "execute_result"
    }
   ],
   "source": [
    "b"
   ]
  },
  {
   "cell_type": "code",
   "execution_count": 65,
   "id": "73200073",
   "metadata": {},
   "outputs": [
    {
     "data": {
      "text/plain": [
       "1"
      ]
     },
     "execution_count": 65,
     "metadata": {},
     "output_type": "execute_result"
    }
   ],
   "source": [
    "b.count(3)"
   ]
  },
  {
   "cell_type": "code",
   "execution_count": 66,
   "id": "8ae4a6d3",
   "metadata": {},
   "outputs": [],
   "source": [
    "b.reverse()"
   ]
  },
  {
   "cell_type": "code",
   "execution_count": 67,
   "id": "4bcd9150",
   "metadata": {},
   "outputs": [
    {
     "data": {
      "text/plain": [
       "[7, 6, 5, 4, 3, 2, 1]"
      ]
     },
     "execution_count": 67,
     "metadata": {},
     "output_type": "execute_result"
    }
   ],
   "source": [
    "b"
   ]
  },
  {
   "cell_type": "markdown",
   "id": "ff77e12e",
   "metadata": {},
   "source": [
    "# tuple()"
   ]
  },
  {
   "cell_type": "code",
   "execution_count": 68,
   "id": "82ead2be",
   "metadata": {},
   "outputs": [],
   "source": [
    "a=(2,4,3,5,6,78,8,'name')"
   ]
  },
  {
   "cell_type": "code",
   "execution_count": 69,
   "id": "a9db3551",
   "metadata": {},
   "outputs": [
    {
     "data": {
      "text/plain": [
       "tuple"
      ]
     },
     "execution_count": 69,
     "metadata": {},
     "output_type": "execute_result"
    }
   ],
   "source": [
    "type(a)"
   ]
  },
  {
   "cell_type": "code",
   "execution_count": 70,
   "id": "21337f6c",
   "metadata": {},
   "outputs": [
    {
     "data": {
      "text/plain": [
       "(2, 4, 3, 5, 6, 78, 8, 'name')"
      ]
     },
     "execution_count": 70,
     "metadata": {},
     "output_type": "execute_result"
    }
   ],
   "source": [
    "a"
   ]
  },
  {
   "cell_type": "code",
   "execution_count": 71,
   "id": "01410723",
   "metadata": {},
   "outputs": [
    {
     "data": {
      "text/plain": [
       "6"
      ]
     },
     "execution_count": 71,
     "metadata": {},
     "output_type": "execute_result"
    }
   ],
   "source": [
    "a.index(8)"
   ]
  },
  {
   "cell_type": "markdown",
   "id": "3f399695",
   "metadata": {},
   "source": [
    "# set{}"
   ]
  },
  {
   "cell_type": "code",
   "execution_count": 72,
   "id": "057afb59",
   "metadata": {},
   "outputs": [],
   "source": [
    "d={3,4,5,6,6,'name'}"
   ]
  },
  {
   "cell_type": "code",
   "execution_count": 73,
   "id": "a3990e85",
   "metadata": {},
   "outputs": [
    {
     "data": {
      "text/plain": [
       "set"
      ]
     },
     "execution_count": 73,
     "metadata": {},
     "output_type": "execute_result"
    }
   ],
   "source": [
    "type(d)"
   ]
  },
  {
   "cell_type": "code",
   "execution_count": 74,
   "id": "8e3b9f86",
   "metadata": {},
   "outputs": [
    {
     "data": {
      "text/plain": [
       "{3, 4, 5, 6, 'name'}"
      ]
     },
     "execution_count": 74,
     "metadata": {},
     "output_type": "execute_result"
    }
   ],
   "source": [
    "d"
   ]
  },
  {
   "cell_type": "code",
   "execution_count": 75,
   "id": "07b2e772",
   "metadata": {},
   "outputs": [],
   "source": [
    "f={'apple','banana','orange'}"
   ]
  },
  {
   "cell_type": "code",
   "execution_count": 76,
   "id": "47f65973",
   "metadata": {},
   "outputs": [
    {
     "name": "stdout",
     "output_type": "stream",
     "text": [
      "{'orange', 'apple', 'banana'}\n"
     ]
    }
   ],
   "source": [
    "print(f)"
   ]
  },
  {
   "cell_type": "code",
   "execution_count": 77,
   "id": "f3a82f0b",
   "metadata": {},
   "outputs": [
    {
     "data": {
      "text/plain": [
       "'orange'"
      ]
     },
     "execution_count": 77,
     "metadata": {},
     "output_type": "execute_result"
    }
   ],
   "source": [
    "f.pop()"
   ]
  },
  {
   "cell_type": "code",
   "execution_count": 78,
   "id": "345df5a1",
   "metadata": {},
   "outputs": [
    {
     "data": {
      "text/plain": [
       "{'apple', 'banana'}"
      ]
     },
     "execution_count": 78,
     "metadata": {},
     "output_type": "execute_result"
    }
   ],
   "source": [
    "f"
   ]
  },
  {
   "cell_type": "code",
   "execution_count": 79,
   "id": "ce266471",
   "metadata": {},
   "outputs": [
    {
     "data": {
      "text/plain": [
       "'apple'"
      ]
     },
     "execution_count": 79,
     "metadata": {},
     "output_type": "execute_result"
    }
   ],
   "source": [
    "f.pop()"
   ]
  },
  {
   "cell_type": "code",
   "execution_count": 80,
   "id": "90613e4e",
   "metadata": {},
   "outputs": [
    {
     "data": {
      "text/plain": [
       "{'banana'}"
      ]
     },
     "execution_count": 80,
     "metadata": {},
     "output_type": "execute_result"
    }
   ],
   "source": [
    "f"
   ]
  },
  {
   "cell_type": "markdown",
   "id": "55d51e3d",
   "metadata": {},
   "source": [
    "# Dict{ }"
   ]
  },
  {
   "cell_type": "code",
   "execution_count": 81,
   "id": "1d008389",
   "metadata": {},
   "outputs": [],
   "source": [
    "g={'keys':1}"
   ]
  },
  {
   "cell_type": "code",
   "execution_count": 82,
   "id": "54722bdc",
   "metadata": {},
   "outputs": [
    {
     "data": {
      "text/plain": [
       "dict"
      ]
     },
     "execution_count": 82,
     "metadata": {},
     "output_type": "execute_result"
    }
   ],
   "source": [
    "type(g)"
   ]
  },
  {
   "cell_type": "code",
   "execution_count": null,
   "id": "f19318af",
   "metadata": {},
   "outputs": [],
   "source": []
  },
  {
   "cell_type": "code",
   "execution_count": 83,
   "id": "31de6091",
   "metadata": {},
   "outputs": [],
   "source": [
    "h={'jack':5678,'sham':8896}"
   ]
  },
  {
   "cell_type": "code",
   "execution_count": 84,
   "id": "50af684b",
   "metadata": {},
   "outputs": [
    {
     "data": {
      "text/plain": [
       "{'jack': 5678, 'sham': 8896}"
      ]
     },
     "execution_count": 84,
     "metadata": {},
     "output_type": "execute_result"
    }
   ],
   "source": [
    "h"
   ]
  },
  {
   "cell_type": "code",
   "execution_count": 85,
   "id": "abef9b13",
   "metadata": {},
   "outputs": [
    {
     "data": {
      "text/plain": [
       "dict_keys(['jack', 'sham'])"
      ]
     },
     "execution_count": 85,
     "metadata": {},
     "output_type": "execute_result"
    }
   ],
   "source": [
    "h.keys()"
   ]
  },
  {
   "cell_type": "code",
   "execution_count": 86,
   "id": "6b0b78c5",
   "metadata": {},
   "outputs": [
    {
     "data": {
      "text/plain": [
       "dict_values([5678, 8896])"
      ]
     },
     "execution_count": 86,
     "metadata": {},
     "output_type": "execute_result"
    }
   ],
   "source": [
    "h.values()"
   ]
  },
  {
   "cell_type": "code",
   "execution_count": 87,
   "id": "0035e031",
   "metadata": {},
   "outputs": [
    {
     "data": {
      "text/plain": [
       "5678"
      ]
     },
     "execution_count": 87,
     "metadata": {},
     "output_type": "execute_result"
    }
   ],
   "source": [
    "h['jack']"
   ]
  },
  {
   "cell_type": "code",
   "execution_count": 88,
   "id": "497136ea",
   "metadata": {},
   "outputs": [
    {
     "data": {
      "text/plain": [
       "8896"
      ]
     },
     "execution_count": 88,
     "metadata": {},
     "output_type": "execute_result"
    }
   ],
   "source": [
    "h.get('sham')"
   ]
  },
  {
   "cell_type": "code",
   "execution_count": 89,
   "id": "e5fe239e",
   "metadata": {},
   "outputs": [],
   "source": [
    "data={\n",
    "    \"student_1\":{ \n",
    "        'name': 'karthi',\n",
    "        'mark': 35 \n",
    "                  },\n",
    "    \"student_2\":{ \n",
    "        'name': 'vijay',\n",
    "        'mark': 56\n",
    "                  }\n",
    "    }"
   ]
  },
  {
   "cell_type": "code",
   "execution_count": 90,
   "id": "81099bc4",
   "metadata": {},
   "outputs": [
    {
     "data": {
      "text/plain": [
       "{'student_1': {'name': 'karthi', 'mark': 35},\n",
       " 'student_2': {'name': 'vijay', 'mark': 56}}"
      ]
     },
     "execution_count": 90,
     "metadata": {},
     "output_type": "execute_result"
    }
   ],
   "source": [
    "data"
   ]
  },
  {
   "cell_type": "code",
   "execution_count": 91,
   "id": "6ee3b15d",
   "metadata": {},
   "outputs": [
    {
     "data": {
      "text/plain": [
       "{'name': 'karthi', 'mark': 35}"
      ]
     },
     "execution_count": 91,
     "metadata": {},
     "output_type": "execute_result"
    }
   ],
   "source": [
    "data[\"student_1\"]"
   ]
  },
  {
   "cell_type": "code",
   "execution_count": 92,
   "id": "5615fcdd",
   "metadata": {},
   "outputs": [
    {
     "data": {
      "text/plain": [
       "35"
      ]
     },
     "execution_count": 92,
     "metadata": {},
     "output_type": "execute_result"
    }
   ],
   "source": [
    "data[\"student_1\"][\"mark\"]"
   ]
  },
  {
   "cell_type": "markdown",
   "id": "bd015423",
   "metadata": {},
   "source": [
    "# if statements\n",
    "- elif\n",
    "- else:above condition fail\n",
    "- if:condition is true run"
   ]
  },
  {
   "cell_type": "code",
   "execution_count": 93,
   "id": "2e2117c7",
   "metadata": {},
   "outputs": [],
   "source": [
    "a=30"
   ]
  },
  {
   "cell_type": "code",
   "execution_count": 94,
   "id": "2d1efbc0",
   "metadata": {},
   "outputs": [
    {
     "name": "stdout",
     "output_type": "stream",
     "text": [
      "value is 30\n"
     ]
    }
   ],
   "source": [
    "if a==10:\n",
    "    print(a)\n",
    "    c=a+10\n",
    "    print('value are ',c)\n",
    "elif a==29:\n",
    "    print('value is done')\n",
    "elif a==30:\n",
    "    print('value is 30')\n",
    "else:\n",
    "    print('the velue is so too much high so please enter small value')"
   ]
  },
  {
   "cell_type": "markdown",
   "id": "86d9fb2f",
   "metadata": {},
   "source": [
    "# loop\n",
    "- for loop\n",
    "- while loop"
   ]
  },
  {
   "cell_type": "code",
   "execution_count": 95,
   "id": "e8edb001",
   "metadata": {},
   "outputs": [],
   "source": [
    "a=[\"rahul\",'mani',\"barani\",\"abdul\"]"
   ]
  },
  {
   "cell_type": "code",
   "execution_count": 96,
   "id": "8e2c9ec8",
   "metadata": {},
   "outputs": [
    {
     "data": {
      "text/plain": [
       "list"
      ]
     },
     "execution_count": 96,
     "metadata": {},
     "output_type": "execute_result"
    }
   ],
   "source": [
    "type(a)"
   ]
  },
  {
   "cell_type": "code",
   "execution_count": 97,
   "id": "9b791fbd",
   "metadata": {},
   "outputs": [
    {
     "name": "stdout",
     "output_type": "stream",
     "text": [
      "rahul\n",
      "mani\n",
      "barani\n",
      "abdul\n"
     ]
    }
   ],
   "source": [
    "for i in a:\n",
    "    print(i)"
   ]
  },
  {
   "cell_type": "code",
   "execution_count": 98,
   "id": "119eac44",
   "metadata": {},
   "outputs": [
    {
     "name": "stdout",
     "output_type": "stream",
     "text": [
      "hi \n",
      "bye \n",
      "hi \n",
      "bye \n",
      "the list is empty\n"
     ]
    }
   ],
   "source": [
    "for i in a:\n",
    "    if i=='rahul' or i=='barani':\n",
    "        print('hi ')\n",
    "    else:\n",
    "        print('bye ')\n",
    "else:\n",
    "    print('the list is empty')"
   ]
  },
  {
   "cell_type": "code",
   "execution_count": 99,
   "id": "229a9ec5",
   "metadata": {},
   "outputs": [
    {
     "name": "stdout",
     "output_type": "stream",
     "text": [
      "1\n",
      "2\n",
      "3\n",
      "4\n",
      "5\n",
      "6\n",
      "7\n",
      "8\n",
      "9\n"
     ]
    }
   ],
   "source": [
    "i=1\n",
    "while i<10:\n",
    "    print(i)\n",
    "    i=i+1\n"
   ]
  },
  {
   "cell_type": "markdown",
   "id": "a717a481",
   "metadata": {},
   "source": [
    "# how to edit tuple"
   ]
  },
  {
   "cell_type": "code",
   "execution_count": 100,
   "id": "dd49d507",
   "metadata": {},
   "outputs": [
    {
     "data": {
      "text/plain": [
       "tuple"
      ]
     },
     "execution_count": 100,
     "metadata": {},
     "output_type": "execute_result"
    }
   ],
   "source": [
    "c=('rahul',3,5,46,7,78)\n",
    "type(c)"
   ]
  },
  {
   "cell_type": "code",
   "execution_count": 101,
   "id": "42421bd5",
   "metadata": {},
   "outputs": [],
   "source": [
    "#type casting\n",
    "d=list(c)"
   ]
  },
  {
   "cell_type": "code",
   "execution_count": 102,
   "id": "e91c7b5d",
   "metadata": {},
   "outputs": [
    {
     "data": {
      "text/plain": [
       "['rahul', 3, 5, 46, 7, 78]"
      ]
     },
     "execution_count": 102,
     "metadata": {},
     "output_type": "execute_result"
    }
   ],
   "source": [
    "d"
   ]
  },
  {
   "cell_type": "code",
   "execution_count": 103,
   "id": "d7392ae7",
   "metadata": {},
   "outputs": [
    {
     "data": {
      "text/plain": [
       "list"
      ]
     },
     "execution_count": 103,
     "metadata": {},
     "output_type": "execute_result"
    }
   ],
   "source": [
    "type(d)"
   ]
  },
  {
   "cell_type": "code",
   "execution_count": 104,
   "id": "06b33131",
   "metadata": {},
   "outputs": [],
   "source": [
    "d.append('hari')"
   ]
  },
  {
   "cell_type": "code",
   "execution_count": 105,
   "id": "7293c8cb",
   "metadata": {},
   "outputs": [
    {
     "data": {
      "text/plain": [
       "['rahul', 3, 5, 46, 7, 78, 'hari']"
      ]
     },
     "execution_count": 105,
     "metadata": {},
     "output_type": "execute_result"
    }
   ],
   "source": [
    "d"
   ]
  },
  {
   "cell_type": "code",
   "execution_count": 106,
   "id": "689c5b0d",
   "metadata": {},
   "outputs": [],
   "source": [
    "c=tuple(d)"
   ]
  },
  {
   "cell_type": "code",
   "execution_count": 107,
   "id": "635cfab7",
   "metadata": {},
   "outputs": [
    {
     "data": {
      "text/plain": [
       "('rahul', 3, 5, 46, 7, 78, 'hari')"
      ]
     },
     "execution_count": 107,
     "metadata": {},
     "output_type": "execute_result"
    }
   ],
   "source": [
    "c"
   ]
  },
  {
   "cell_type": "markdown",
   "id": "920ccb89",
   "metadata": {},
   "source": [
    "#  - how to remove duplicates from list or tuple"
   ]
  },
  {
   "cell_type": "markdown",
   "id": "5ee9d6b2",
   "metadata": {},
   "source": []
  },
  {
   "cell_type": "code",
   "execution_count": 108,
   "id": "00e86847",
   "metadata": {},
   "outputs": [],
   "source": [
    "j=[2,4,3,4,4,'rahul']"
   ]
  },
  {
   "cell_type": "code",
   "execution_count": 109,
   "id": "9eb24285",
   "metadata": {},
   "outputs": [],
   "source": [
    "i=set(j)"
   ]
  },
  {
   "cell_type": "code",
   "execution_count": 110,
   "id": "b3391b5e",
   "metadata": {},
   "outputs": [
    {
     "data": {
      "text/plain": [
       "{2, 3, 4, 'rahul'}"
      ]
     },
     "execution_count": 110,
     "metadata": {},
     "output_type": "execute_result"
    }
   ],
   "source": [
    "i"
   ]
  },
  {
   "cell_type": "code",
   "execution_count": 111,
   "id": "ac4f17f4",
   "metadata": {},
   "outputs": [
    {
     "data": {
      "text/plain": [
       "set"
      ]
     },
     "execution_count": 111,
     "metadata": {},
     "output_type": "execute_result"
    }
   ],
   "source": [
    "type(i)"
   ]
  },
  {
   "cell_type": "code",
   "execution_count": 112,
   "id": "fc2e469c",
   "metadata": {},
   "outputs": [],
   "source": [
    "j=list(i)"
   ]
  },
  {
   "cell_type": "code",
   "execution_count": 113,
   "id": "7f5c1a6b",
   "metadata": {},
   "outputs": [
    {
     "data": {
      "text/plain": [
       "['rahul', 2, 3, 4]"
      ]
     },
     "execution_count": 113,
     "metadata": {},
     "output_type": "execute_result"
    }
   ],
   "source": [
    "j"
   ]
  },
  {
   "cell_type": "markdown",
   "id": "b950d1d1",
   "metadata": {},
   "source": [
    "# stack"
   ]
  },
  {
   "cell_type": "code",
   "execution_count": 114,
   "id": "539b1998",
   "metadata": {},
   "outputs": [],
   "source": [
    "stack=[1,3,2,4,5,6]"
   ]
  },
  {
   "cell_type": "code",
   "execution_count": 115,
   "id": "6374dec8",
   "metadata": {},
   "outputs": [],
   "source": [
    "stack.append(9)"
   ]
  },
  {
   "cell_type": "code",
   "execution_count": 116,
   "id": "6627c41e",
   "metadata": {},
   "outputs": [
    {
     "data": {
      "text/plain": [
       "[1, 3, 2, 4, 5, 6, 9]"
      ]
     },
     "execution_count": 116,
     "metadata": {},
     "output_type": "execute_result"
    }
   ],
   "source": [
    "stack"
   ]
  },
  {
   "cell_type": "code",
   "execution_count": 117,
   "id": "4e6159a9",
   "metadata": {},
   "outputs": [
    {
     "data": {
      "text/plain": [
       "9"
      ]
     },
     "execution_count": 117,
     "metadata": {},
     "output_type": "execute_result"
    }
   ],
   "source": [
    "stack.pop()"
   ]
  },
  {
   "cell_type": "code",
   "execution_count": 118,
   "id": "ed7a1e8b",
   "metadata": {},
   "outputs": [
    {
     "data": {
      "text/plain": [
       "[1, 3, 2, 4, 5, 6]"
      ]
     },
     "execution_count": 118,
     "metadata": {},
     "output_type": "execute_result"
    }
   ],
   "source": [
    "stack"
   ]
  },
  {
   "cell_type": "markdown",
   "id": "7bf8be6c",
   "metadata": {},
   "source": [
    "# list comprehension"
   ]
  },
  {
   "cell_type": "code",
   "execution_count": 119,
   "id": "08785b86",
   "metadata": {},
   "outputs": [],
   "source": [
    "a=[1,2,3,4,5,6,7]"
   ]
  },
  {
   "cell_type": "code",
   "execution_count": 120,
   "id": "19a1f924",
   "metadata": {},
   "outputs": [
    {
     "name": "stdout",
     "output_type": "stream",
     "text": [
      "11\n",
      "12\n",
      "13\n",
      "14\n",
      "15\n",
      "16\n",
      "17\n"
     ]
    }
   ],
   "source": [
    "d=[]\n",
    "for i in a:\n",
    "    c=i+10\n",
    "    d.append(c)\n",
    "    print(c)"
   ]
  },
  {
   "cell_type": "code",
   "execution_count": 121,
   "id": "0a963166",
   "metadata": {},
   "outputs": [
    {
     "data": {
      "text/plain": [
       "[11, 12, 13, 14, 15, 16, 17]"
      ]
     },
     "execution_count": 121,
     "metadata": {},
     "output_type": "execute_result"
    }
   ],
   "source": [
    "d"
   ]
  },
  {
   "cell_type": "markdown",
   "id": "725a5ccc",
   "metadata": {},
   "source": [
    "# function\n",
    " - a function is a block of code which only runs when it is called"
   ]
  },
  {
   "cell_type": "markdown",
   "id": "043e5318",
   "metadata": {},
   "source": [
    "# type of function\n",
    " - python built-in function.\n",
    "     - example:print,if,for...etc\n",
    " - python user def function\n",
    " - python lambda function\n",
    " - python recursion function\n"
   ]
  },
  {
   "cell_type": "code",
   "execution_count": 122,
   "id": "8d013fc8",
   "metadata": {},
   "outputs": [],
   "source": [
    "a=[1,2,3,4,5,6,7]"
   ]
  },
  {
   "cell_type": "code",
   "execution_count": 123,
   "id": "9b1b483f",
   "metadata": {},
   "outputs": [
    {
     "name": "stdout",
     "output_type": "stream",
     "text": [
      "11\n",
      "12\n",
      "13\n",
      "14\n",
      "15\n",
      "16\n",
      "17\n"
     ]
    }
   ],
   "source": [
    "for i in a:\n",
    "    c=i+10\n",
    "    print(c)"
   ]
  },
  {
   "cell_type": "code",
   "execution_count": 124,
   "id": "a33ff3c7",
   "metadata": {},
   "outputs": [],
   "source": [
    "a=[3,4,6,7,8,9]\n",
    "b=[9,8,7,6,5,4]\n",
    "c=[0,9,7,5,3,1]"
   ]
  },
  {
   "cell_type": "code",
   "execution_count": 125,
   "id": "8e07036d",
   "metadata": {},
   "outputs": [
    {
     "data": {
      "text/plain": [
       "[0, 9, 7, 5, 3, 1]"
      ]
     },
     "execution_count": 125,
     "metadata": {},
     "output_type": "execute_result"
    }
   ],
   "source": [
    "c"
   ]
  },
  {
   "cell_type": "code",
   "execution_count": 126,
   "id": "526bce44",
   "metadata": {},
   "outputs": [
    {
     "data": {
      "text/plain": [
       "[3, 4, 6, 7, 8, 9]"
      ]
     },
     "execution_count": 126,
     "metadata": {},
     "output_type": "execute_result"
    }
   ],
   "source": [
    "a"
   ]
  },
  {
   "cell_type": "code",
   "execution_count": 127,
   "id": "adee1cb8",
   "metadata": {},
   "outputs": [],
   "source": [
    "def l_camp(z):\n",
    "    d=[]\n",
    "    for i in z:\n",
    "        c=i+10\n",
    "        d.append(c)\n",
    "    return d"
   ]
  },
  {
   "cell_type": "code",
   "execution_count": 128,
   "id": "4e754f79",
   "metadata": {},
   "outputs": [],
   "source": [
    "a=l_camp(a)"
   ]
  },
  {
   "cell_type": "code",
   "execution_count": 129,
   "id": "b8da42d6",
   "metadata": {},
   "outputs": [],
   "source": [
    "b=l_camp(b)"
   ]
  },
  {
   "cell_type": "code",
   "execution_count": 130,
   "id": "b660c8ba",
   "metadata": {},
   "outputs": [],
   "source": [
    "c=l_camp(c)"
   ]
  },
  {
   "cell_type": "code",
   "execution_count": 131,
   "id": "951a9efd",
   "metadata": {},
   "outputs": [
    {
     "data": {
      "text/plain": [
       "[10, 19, 17, 15, 13, 11]"
      ]
     },
     "execution_count": 131,
     "metadata": {},
     "output_type": "execute_result"
    }
   ],
   "source": [
    "c"
   ]
  },
  {
   "cell_type": "code",
   "execution_count": 132,
   "id": "f0d75eea",
   "metadata": {},
   "outputs": [
    {
     "data": {
      "text/plain": [
       "[13, 14, 16, 17, 18, 19]"
      ]
     },
     "execution_count": 132,
     "metadata": {},
     "output_type": "execute_result"
    }
   ],
   "source": [
    "a"
   ]
  },
  {
   "cell_type": "code",
   "execution_count": 133,
   "id": "bd1a30dd",
   "metadata": {},
   "outputs": [
    {
     "data": {
      "text/plain": [
       "[19, 18, 17, 16, 15, 14]"
      ]
     },
     "execution_count": 133,
     "metadata": {},
     "output_type": "execute_result"
    }
   ],
   "source": [
    "b"
   ]
  },
  {
   "cell_type": "code",
   "execution_count": 134,
   "id": "40ec8580",
   "metadata": {},
   "outputs": [],
   "source": [
    "def div(a,b):\n",
    "    c=a/b\n",
    "    return c,a,b"
   ]
  },
  {
   "cell_type": "code",
   "execution_count": 135,
   "id": "51a6aa64",
   "metadata": {},
   "outputs": [
    {
     "data": {
      "text/plain": [
       "(2.0, 6, 3)"
      ]
     },
     "execution_count": 135,
     "metadata": {},
     "output_type": "execute_result"
    }
   ],
   "source": [
    "div(6,3)"
   ]
  },
  {
   "cell_type": "code",
   "execution_count": 136,
   "id": "cb12e23c",
   "metadata": {},
   "outputs": [
    {
     "data": {
      "text/plain": [
       "(2.0, 4, 2)"
      ]
     },
     "execution_count": 136,
     "metadata": {},
     "output_type": "execute_result"
    }
   ],
   "source": [
    "div(4,2)"
   ]
  },
  {
   "cell_type": "code",
   "execution_count": 137,
   "id": "20ac2448",
   "metadata": {},
   "outputs": [],
   "source": [
    "def add(a,b):\n",
    "    c=a+b\n",
    "    return c,a,b"
   ]
  },
  {
   "cell_type": "code",
   "execution_count": 138,
   "id": "158c504e",
   "metadata": {},
   "outputs": [],
   "source": [
    "a,b,c=add(2,3)"
   ]
  },
  {
   "cell_type": "code",
   "execution_count": 139,
   "id": "377aecf6",
   "metadata": {},
   "outputs": [
    {
     "data": {
      "text/plain": [
       "3"
      ]
     },
     "execution_count": 139,
     "metadata": {},
     "output_type": "execute_result"
    }
   ],
   "source": [
    "c"
   ]
  },
  {
   "cell_type": "code",
   "execution_count": 140,
   "id": "c3fd08bc",
   "metadata": {},
   "outputs": [
    {
     "data": {
      "text/plain": [
       "5"
      ]
     },
     "execution_count": 140,
     "metadata": {},
     "output_type": "execute_result"
    }
   ],
   "source": [
    "a"
   ]
  },
  {
   "cell_type": "code",
   "execution_count": 141,
   "id": "8d9b24d3",
   "metadata": {},
   "outputs": [
    {
     "data": {
      "text/plain": [
       "2"
      ]
     },
     "execution_count": 141,
     "metadata": {},
     "output_type": "execute_result"
    }
   ],
   "source": [
    "b"
   ]
  },
  {
   "cell_type": "code",
   "execution_count": 142,
   "id": "d2948f0e",
   "metadata": {},
   "outputs": [
    {
     "data": {
      "text/plain": [
       "(13, 4, 9)"
      ]
     },
     "execution_count": 142,
     "metadata": {},
     "output_type": "execute_result"
    }
   ],
   "source": [
    "add(4,9)"
   ]
  },
  {
   "cell_type": "code",
   "execution_count": 143,
   "id": "03403895",
   "metadata": {},
   "outputs": [],
   "source": [
    "a=10                     #global\n",
    "b=50\n",
    "def add(a,b):\n",
    "    h=a+b                #local\n",
    "    return h"
   ]
  },
  {
   "cell_type": "code",
   "execution_count": 144,
   "id": "033434c1",
   "metadata": {},
   "outputs": [
    {
     "data": {
      "text/plain": [
       "10"
      ]
     },
     "execution_count": 144,
     "metadata": {},
     "output_type": "execute_result"
    }
   ],
   "source": [
    "a"
   ]
  },
  {
   "cell_type": "code",
   "execution_count": 145,
   "id": "471e46e3",
   "metadata": {},
   "outputs": [
    {
     "data": {
      "text/plain": [
       "50"
      ]
     },
     "execution_count": 145,
     "metadata": {},
     "output_type": "execute_result"
    }
   ],
   "source": [
    "b"
   ]
  },
  {
   "cell_type": "code",
   "execution_count": 146,
   "id": "5d37c073",
   "metadata": {},
   "outputs": [],
   "source": [
    "h=add(5,8)"
   ]
  },
  {
   "cell_type": "code",
   "execution_count": 147,
   "id": "541464de",
   "metadata": {},
   "outputs": [
    {
     "data": {
      "text/plain": [
       "13"
      ]
     },
     "execution_count": 147,
     "metadata": {},
     "output_type": "execute_result"
    }
   ],
   "source": [
    "h"
   ]
  },
  {
   "cell_type": "markdown",
   "id": "6f4007cd",
   "metadata": {},
   "source": [
    "# lambda function"
   ]
  },
  {
   "cell_type": "code",
   "execution_count": 1,
   "id": "610829db",
   "metadata": {},
   "outputs": [],
   "source": [
    "#normal one\n",
    "def sum(a):\n",
    "    c=a+10\n",
    "    return c"
   ]
  },
  {
   "cell_type": "code",
   "execution_count": 2,
   "id": "e25a276a",
   "metadata": {},
   "outputs": [
    {
     "data": {
      "text/plain": [
       "20"
      ]
     },
     "execution_count": 2,
     "metadata": {},
     "output_type": "execute_result"
    }
   ],
   "source": [
    "sum(10)"
   ]
  },
  {
   "cell_type": "code",
   "execution_count": 3,
   "id": "d9d2e5a8",
   "metadata": {},
   "outputs": [],
   "source": [
    "#lambda style\n",
    "c=lambda a:a*10"
   ]
  },
  {
   "cell_type": "code",
   "execution_count": 4,
   "id": "d25c837b",
   "metadata": {},
   "outputs": [
    {
     "data": {
      "text/plain": [
       "30"
      ]
     },
     "execution_count": 4,
     "metadata": {},
     "output_type": "execute_result"
    }
   ],
   "source": [
    "c(3)"
   ]
  },
  {
   "cell_type": "code",
   "execution_count": 5,
   "id": "5ba0a1c4",
   "metadata": {},
   "outputs": [
    {
     "data": {
      "text/plain": [
       "70"
      ]
     },
     "execution_count": 5,
     "metadata": {},
     "output_type": "execute_result"
    }
   ],
   "source": [
    "20+c(5)"
   ]
  },
  {
   "cell_type": "code",
   "execution_count": 10,
   "id": "cdf1fba6",
   "metadata": {},
   "outputs": [],
   "source": [
    "def sum(a):\n",
    "    c=a+10\n",
    "    print(c)\n",
    "    sum(a)\n"
   ]
  },
  {
   "cell_type": "code",
   "execution_count": 42,
   "id": "c0a1fc81",
   "metadata": {},
   "outputs": [
    {
     "name": "stdout",
     "output_type": "stream",
     "text": [
      "fibonacci series\n",
      "0\n",
      "1\n",
      "4\n",
      "8\n",
      "13\n",
      "19\n",
      "26\n",
      "34\n",
      "43\n",
      "53\n"
     ]
    }
   ],
   "source": [
    "#programme to print the fibonacci\n",
    "\n",
    "# recursive function\n",
    "def recursive_fibonacci(n):\n",
    "    if n <= 1:\n",
    "        return n\n",
    "    else:\n",
    "        return(recursive_fibonacci(n-1)+(n+1))\n",
    "    \n",
    "n_terms = 10\n",
    "\n",
    "#check if the number of terms\n",
    "if n_terms <= 0:\n",
    "    print(\"invalid input\")\n",
    "else:\n",
    "    print('fibonacci series')\n",
    "for i in range(n_terms):\n",
    "    print(recursive_fibonacci(i))"
   ]
  },
  {
   "cell_type": "code",
   "execution_count": 43,
   "id": "84ebba71",
   "metadata": {},
   "outputs": [],
   "source": [
    "def name(a):\n",
    "    pass"
   ]
  },
  {
   "cell_type": "code",
   "execution_count": 44,
   "id": "0b5f29e8",
   "metadata": {},
   "outputs": [
    {
     "data": {
      "text/plain": [
       "0"
      ]
     },
     "execution_count": 44,
     "metadata": {},
     "output_type": "execute_result"
    }
   ],
   "source": [
    "list(range(2,3))\n",
    "2%2"
   ]
  },
  {
   "cell_type": "code",
   "execution_count": 49,
   "id": "621bfdd7",
   "metadata": {},
   "outputs": [
    {
     "name": "stdout",
     "output_type": "stream",
     "text": [
      "3 is a prime number\n",
      "4 equals 4\n",
      "5 is a prime number\n",
      "5 is a prime number\n",
      "5 is a prime number\n",
      "6 equals 4\n",
      "7 is a prime number\n",
      "7 is a prime number\n",
      "7 is a prime number\n",
      "7 is a prime number\n",
      "7 is a prime number\n",
      "8 equals 4\n",
      "9 is a prime number\n",
      "9 equals 4\n"
     ]
    }
   ],
   "source": [
    "for n in range(2,10):\n",
    "    for x in range(2, n):\n",
    "        if n % x ==0:\n",
    "            print(n,'equals',(2*2))\n",
    "            break\n",
    "        else:\n",
    "            print(n,'is a prime number')"
   ]
  },
  {
   "cell_type": "code",
   "execution_count": 16,
   "id": "2f0a692d",
   "metadata": {},
   "outputs": [],
   "source": [
    "a=[2,1,4,5,6,7,8,8]"
   ]
  },
  {
   "cell_type": "code",
   "execution_count": 24,
   "id": "ceb51373",
   "metadata": {},
   "outputs": [],
   "source": [
    "def demo(a):\n",
    "    for i in a:\n",
    "        if i==1:\n",
    "            print('a is one',i)\n",
    "            break\n",
    "        else:\n",
    "            print('a is not one',i)"
   ]
  },
  {
   "cell_type": "code",
   "execution_count": 25,
   "id": "5e68fa67",
   "metadata": {},
   "outputs": [
    {
     "name": "stdout",
     "output_type": "stream",
     "text": [
      "a is not one 2\n",
      "a is one 1\n"
     ]
    }
   ],
   "source": [
    "demo(a)"
   ]
  },
  {
   "cell_type": "code",
   "execution_count": 26,
   "id": "ff7d5608",
   "metadata": {},
   "outputs": [],
   "source": [
    "def demo(a):\n",
    "    for i in a:\n",
    "        if i==1:\n",
    "            print('a is one',i)\n",
    "            continue\n",
    "        else:\n",
    "            print('a is not one',i)"
   ]
  },
  {
   "cell_type": "code",
   "execution_count": 27,
   "id": "234aa047",
   "metadata": {},
   "outputs": [
    {
     "name": "stdout",
     "output_type": "stream",
     "text": [
      "a is not one 2\n",
      "a is one 1\n",
      "a is not one 4\n",
      "a is not one 5\n",
      "a is not one 6\n",
      "a is not one 7\n",
      "a is not one 8\n",
      "a is not one 8\n"
     ]
    }
   ],
   "source": [
    "demo(a)"
   ]
  },
  {
   "cell_type": "markdown",
   "id": "4e06e252",
   "metadata": {},
   "source": [
    "# module"
   ]
  },
  {
   "cell_type": "code",
   "execution_count": 28,
   "id": "a7880da7",
   "metadata": {},
   "outputs": [],
   "source": [
    "def add(a,b):\n",
    "    c=a+b\n",
    "    return c"
   ]
  },
  {
   "cell_type": "code",
   "execution_count": 29,
   "id": "be2f182a",
   "metadata": {},
   "outputs": [
    {
     "data": {
      "text/plain": [
       "12"
      ]
     },
     "execution_count": 29,
     "metadata": {},
     "output_type": "execute_result"
    }
   ],
   "source": [
    "add(5,7)"
   ]
  },
  {
   "cell_type": "code",
   "execution_count": null,
   "id": "8f98fb27",
   "metadata": {},
   "outputs": [],
   "source": []
  }
 ],
 "metadata": {
  "kernelspec": {
   "display_name": "Python 3 (ipykernel)",
   "language": "python",
   "name": "python3"
  },
  "language_info": {
   "codemirror_mode": {
    "name": "ipython",
    "version": 3
   },
   "file_extension": ".py",
   "mimetype": "text/x-python",
   "name": "python",
   "nbconvert_exporter": "python",
   "pygments_lexer": "ipython3",
   "version": "3.11.1"
  }
 },
 "nbformat": 4,
 "nbformat_minor": 5
}
